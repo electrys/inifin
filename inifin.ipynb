{
 "cells": [
  {
   "cell_type": "code",
   "execution_count": 1,
   "id": "28e80f86-f2cb-42f3-a100-7fc480578320",
   "metadata": {},
   "outputs": [],
   "source": [
    "# Start with the PyPortfolioOpt package import\n",
    "from pypfopt.efficient_frontier import EfficientFrontier"
   ]
  },
  {
   "cell_type": "code",
   "execution_count": 104,
   "id": "00277d9e-c50a-4847-8ce3-8f517908ef96",
   "metadata": {},
   "outputs": [],
   "source": [
    "# Import pandas, numpy and matplotlib for reading/working/plotting with the data\n",
    "import pandas as pd\n",
    "import numpy as np\n",
    "import matplotlib.pyplot as plt"
   ]
  },
  {
   "cell_type": "code",
   "execution_count": 291,
   "id": "72e5b4b5-3824-4235-bf1f-1d362b49f453",
   "metadata": {},
   "outputs": [],
   "source": [
    "# Read the lower triangle cov matrix from csv file\n",
    "corr_ltr = pd.read_csv(\"./data/corr.csv\",header=None,index_col=0).fillna(0)"
   ]
  },
  {
   "cell_type": "code",
   "execution_count": 217,
   "id": "8b9536a3-ded0-4639-bd38-71213ff314ba",
   "metadata": {},
   "outputs": [
    {
     "data": {
      "text/html": [
       "<div>\n",
       "<style scoped>\n",
       "    .dataframe tbody tr th:only-of-type {\n",
       "        vertical-align: middle;\n",
       "    }\n",
       "\n",
       "    .dataframe tbody tr th {\n",
       "        vertical-align: top;\n",
       "    }\n",
       "\n",
       "    .dataframe thead th {\n",
       "        text-align: right;\n",
       "    }\n",
       "</style>\n",
       "<table border=\"1\" class=\"dataframe\">\n",
       "  <thead>\n",
       "    <tr style=\"text-align: right;\">\n",
       "      <th></th>\n",
       "      <th>1</th>\n",
       "      <th>2</th>\n",
       "      <th>3</th>\n",
       "      <th>4</th>\n",
       "      <th>5</th>\n",
       "      <th>6</th>\n",
       "      <th>7</th>\n",
       "      <th>8</th>\n",
       "      <th>9</th>\n",
       "      <th>10</th>\n",
       "      <th>...</th>\n",
       "      <th>46</th>\n",
       "      <th>47</th>\n",
       "      <th>48</th>\n",
       "      <th>49</th>\n",
       "      <th>50</th>\n",
       "      <th>51</th>\n",
       "      <th>52</th>\n",
       "      <th>53</th>\n",
       "      <th>54</th>\n",
       "      <th>55</th>\n",
       "    </tr>\n",
       "    <tr>\n",
       "      <th>0</th>\n",
       "      <th></th>\n",
       "      <th></th>\n",
       "      <th></th>\n",
       "      <th></th>\n",
       "      <th></th>\n",
       "      <th></th>\n",
       "      <th></th>\n",
       "      <th></th>\n",
       "      <th></th>\n",
       "      <th></th>\n",
       "      <th></th>\n",
       "      <th></th>\n",
       "      <th></th>\n",
       "      <th></th>\n",
       "      <th></th>\n",
       "      <th></th>\n",
       "      <th></th>\n",
       "      <th></th>\n",
       "      <th></th>\n",
       "      <th></th>\n",
       "      <th></th>\n",
       "    </tr>\n",
       "  </thead>\n",
       "  <tbody>\n",
       "    <tr>\n",
       "      <th>Euro Inflation</th>\n",
       "      <td>1.00</td>\n",
       "      <td>0.00</td>\n",
       "      <td>0.00</td>\n",
       "      <td>0.00</td>\n",
       "      <td>0.0</td>\n",
       "      <td>0.0</td>\n",
       "      <td>0.0</td>\n",
       "      <td>0.0</td>\n",
       "      <td>0.0</td>\n",
       "      <td>0.0</td>\n",
       "      <td>...</td>\n",
       "      <td>0.0</td>\n",
       "      <td>0.0</td>\n",
       "      <td>0.0</td>\n",
       "      <td>0.0</td>\n",
       "      <td>0.0</td>\n",
       "      <td>0.0</td>\n",
       "      <td>0.0</td>\n",
       "      <td>0.0</td>\n",
       "      <td>0.0</td>\n",
       "      <td>0.0</td>\n",
       "    </tr>\n",
       "    <tr>\n",
       "      <th>Euro Cash</th>\n",
       "      <td>-0.17</td>\n",
       "      <td>1.00</td>\n",
       "      <td>0.00</td>\n",
       "      <td>0.00</td>\n",
       "      <td>0.0</td>\n",
       "      <td>0.0</td>\n",
       "      <td>0.0</td>\n",
       "      <td>0.0</td>\n",
       "      <td>0.0</td>\n",
       "      <td>0.0</td>\n",
       "      <td>...</td>\n",
       "      <td>0.0</td>\n",
       "      <td>0.0</td>\n",
       "      <td>0.0</td>\n",
       "      <td>0.0</td>\n",
       "      <td>0.0</td>\n",
       "      <td>0.0</td>\n",
       "      <td>0.0</td>\n",
       "      <td>0.0</td>\n",
       "      <td>0.0</td>\n",
       "      <td>0.0</td>\n",
       "    </tr>\n",
       "    <tr>\n",
       "      <th>U.S. Aggregate Bonds hedged</th>\n",
       "      <td>-0.41</td>\n",
       "      <td>0.31</td>\n",
       "      <td>1.00</td>\n",
       "      <td>0.00</td>\n",
       "      <td>0.0</td>\n",
       "      <td>0.0</td>\n",
       "      <td>0.0</td>\n",
       "      <td>0.0</td>\n",
       "      <td>0.0</td>\n",
       "      <td>0.0</td>\n",
       "      <td>...</td>\n",
       "      <td>0.0</td>\n",
       "      <td>0.0</td>\n",
       "      <td>0.0</td>\n",
       "      <td>0.0</td>\n",
       "      <td>0.0</td>\n",
       "      <td>0.0</td>\n",
       "      <td>0.0</td>\n",
       "      <td>0.0</td>\n",
       "      <td>0.0</td>\n",
       "      <td>0.0</td>\n",
       "    </tr>\n",
       "    <tr>\n",
       "      <th>Euro Aggregate Bonds</th>\n",
       "      <td>-0.46</td>\n",
       "      <td>0.30</td>\n",
       "      <td>0.75</td>\n",
       "      <td>1.00</td>\n",
       "      <td>0.0</td>\n",
       "      <td>0.0</td>\n",
       "      <td>0.0</td>\n",
       "      <td>0.0</td>\n",
       "      <td>0.0</td>\n",
       "      <td>0.0</td>\n",
       "      <td>...</td>\n",
       "      <td>0.0</td>\n",
       "      <td>0.0</td>\n",
       "      <td>0.0</td>\n",
       "      <td>0.0</td>\n",
       "      <td>0.0</td>\n",
       "      <td>0.0</td>\n",
       "      <td>0.0</td>\n",
       "      <td>0.0</td>\n",
       "      <td>0.0</td>\n",
       "      <td>0.0</td>\n",
       "    </tr>\n",
       "    <tr>\n",
       "      <th>U.S. Inv Grade Corporate Bonds hedged</th>\n",
       "      <td>-0.35</td>\n",
       "      <td>0.15</td>\n",
       "      <td>0.83</td>\n",
       "      <td>0.67</td>\n",
       "      <td>1.0</td>\n",
       "      <td>0.0</td>\n",
       "      <td>0.0</td>\n",
       "      <td>0.0</td>\n",
       "      <td>0.0</td>\n",
       "      <td>0.0</td>\n",
       "      <td>...</td>\n",
       "      <td>0.0</td>\n",
       "      <td>0.0</td>\n",
       "      <td>0.0</td>\n",
       "      <td>0.0</td>\n",
       "      <td>0.0</td>\n",
       "      <td>0.0</td>\n",
       "      <td>0.0</td>\n",
       "      <td>0.0</td>\n",
       "      <td>0.0</td>\n",
       "      <td>0.0</td>\n",
       "    </tr>\n",
       "  </tbody>\n",
       "</table>\n",
       "<p>5 rows × 55 columns</p>\n",
       "</div>"
      ],
      "text/plain": [
       "                                         1     2     3     4    5    6    7   \\\n",
       "0                                                                              \n",
       "Euro Inflation                         1.00  0.00  0.00  0.00  0.0  0.0  0.0   \n",
       "Euro Cash                             -0.17  1.00  0.00  0.00  0.0  0.0  0.0   \n",
       "U.S. Aggregate Bonds hedged           -0.41  0.31  1.00  0.00  0.0  0.0  0.0   \n",
       "Euro Aggregate Bonds                  -0.46  0.30  0.75  1.00  0.0  0.0  0.0   \n",
       "U.S. Inv Grade Corporate Bonds hedged -0.35  0.15  0.83  0.67  1.0  0.0  0.0   \n",
       "\n",
       "                                        8    9    10  ...   46   47   48   49  \\\n",
       "0                                                     ...                       \n",
       "Euro Inflation                         0.0  0.0  0.0  ...  0.0  0.0  0.0  0.0   \n",
       "Euro Cash                              0.0  0.0  0.0  ...  0.0  0.0  0.0  0.0   \n",
       "U.S. Aggregate Bonds hedged            0.0  0.0  0.0  ...  0.0  0.0  0.0  0.0   \n",
       "Euro Aggregate Bonds                   0.0  0.0  0.0  ...  0.0  0.0  0.0  0.0   \n",
       "U.S. Inv Grade Corporate Bonds hedged  0.0  0.0  0.0  ...  0.0  0.0  0.0  0.0   \n",
       "\n",
       "                                        50   51   52   53   54   55  \n",
       "0                                                                    \n",
       "Euro Inflation                         0.0  0.0  0.0  0.0  0.0  0.0  \n",
       "Euro Cash                              0.0  0.0  0.0  0.0  0.0  0.0  \n",
       "U.S. Aggregate Bonds hedged            0.0  0.0  0.0  0.0  0.0  0.0  \n",
       "Euro Aggregate Bonds                   0.0  0.0  0.0  0.0  0.0  0.0  \n",
       "U.S. Inv Grade Corporate Bonds hedged  0.0  0.0  0.0  0.0  0.0  0.0  \n",
       "\n",
       "[5 rows x 55 columns]"
      ]
     },
     "execution_count": 217,
     "metadata": {},
     "output_type": "execute_result"
    }
   ],
   "source": [
    "corr_ltr.head()"
   ]
  },
  {
   "cell_type": "code",
   "execution_count": 295,
   "id": "2c643130-68a9-42c4-abda-3ce54e2fc444",
   "metadata": {},
   "outputs": [],
   "source": [
    "corr_ltr = corr_ltr.iloc[2:,2:]"
   ]
  },
  {
   "cell_type": "code",
   "execution_count": 296,
   "id": "ce1c5695-b688-4f6d-8524-35e3318ba37b",
   "metadata": {},
   "outputs": [],
   "source": [
    "corr_ltr.columns = corr_ltr.index.values\n",
    "corr_ltr.index.name = None"
   ]
  },
  {
   "cell_type": "code",
   "execution_count": 297,
   "id": "9544ef8b-e808-46c4-a4c8-66d1cd683a2e",
   "metadata": {},
   "outputs": [],
   "source": [
    "# From lower triangle cov matrix get full cov matrix\n",
    "corr_ltrn = corr_ltr.to_numpy()\n",
    "corr = corr_ltrn + np.tril(corr_ltrn, k=-1).T"
   ]
  },
  {
   "cell_type": "code",
   "execution_count": 304,
   "id": "f7f189df-5092-49b5-a470-bacb3d171ad2",
   "metadata": {},
   "outputs": [],
   "source": [
    "# Read mean risk/return values from \n",
    "rire = pd.read_csv(\"./data/rire.csv\",header=None,index_col=0)\n",
    "rire = rire.iloc[2:,:]"
   ]
  },
  {
   "cell_type": "code",
   "execution_count": 305,
   "id": "0a6544be-7477-43c7-b816-7c7abb500170",
   "metadata": {},
   "outputs": [
    {
     "data": {
      "text/html": [
       "<div>\n",
       "<style scoped>\n",
       "    .dataframe tbody tr th:only-of-type {\n",
       "        vertical-align: middle;\n",
       "    }\n",
       "\n",
       "    .dataframe tbody tr th {\n",
       "        vertical-align: top;\n",
       "    }\n",
       "\n",
       "    .dataframe thead th {\n",
       "        text-align: right;\n",
       "    }\n",
       "</style>\n",
       "<table border=\"1\" class=\"dataframe\">\n",
       "  <thead>\n",
       "    <tr style=\"text-align: right;\">\n",
       "      <th></th>\n",
       "      <th>1</th>\n",
       "      <th>2</th>\n",
       "      <th>3</th>\n",
       "      <th>4</th>\n",
       "    </tr>\n",
       "    <tr>\n",
       "      <th>0</th>\n",
       "      <th></th>\n",
       "      <th></th>\n",
       "      <th></th>\n",
       "      <th></th>\n",
       "    </tr>\n",
       "  </thead>\n",
       "  <tbody>\n",
       "    <tr>\n",
       "      <th>U.S. Aggregate Bonds hedged</th>\n",
       "      <td>3.5</td>\n",
       "      <td>3.58</td>\n",
       "      <td>4.12</td>\n",
       "      <td>1.40</td>\n",
       "    </tr>\n",
       "    <tr>\n",
       "      <th>Euro Aggregate Bonds</th>\n",
       "      <td>3.0</td>\n",
       "      <td>3.10</td>\n",
       "      <td>4.48</td>\n",
       "      <td>1.20</td>\n",
       "    </tr>\n",
       "    <tr>\n",
       "      <th>U.S. Inv Grade Corporate Bonds hedged</th>\n",
       "      <td>4.3</td>\n",
       "      <td>4.55</td>\n",
       "      <td>7.19</td>\n",
       "      <td>1.50</td>\n",
       "    </tr>\n",
       "    <tr>\n",
       "      <th>Euro Inv Grade Corp Bonds</th>\n",
       "      <td>3.6</td>\n",
       "      <td>3.73</td>\n",
       "      <td>5.10</td>\n",
       "      <td>1.50</td>\n",
       "    </tr>\n",
       "    <tr>\n",
       "      <th>U.S. High Yield Bonds hedged</th>\n",
       "      <td>5.7</td>\n",
       "      <td>6.05</td>\n",
       "      <td>8.65</td>\n",
       "      <td>2.70</td>\n",
       "    </tr>\n",
       "  </tbody>\n",
       "</table>\n",
       "</div>"
      ],
      "text/plain": [
       "                                         1     2     3     4\n",
       "0                                                           \n",
       "U.S. Aggregate Bonds hedged            3.5  3.58  4.12  1.40\n",
       "Euro Aggregate Bonds                   3.0  3.10  4.48  1.20\n",
       "U.S. Inv Grade Corporate Bonds hedged  4.3  4.55  7.19  1.50\n",
       "Euro Inv Grade Corp Bonds              3.6  3.73  5.10  1.50\n",
       "U.S. High Yield Bonds hedged           5.7  6.05  8.65  2.70"
      ]
     },
     "execution_count": 305,
     "metadata": {},
     "output_type": "execute_result"
    }
   ],
   "source": [
    "rire.head()"
   ]
  },
  {
   "cell_type": "code",
   "execution_count": 306,
   "id": "ca10fce7-83b2-40e3-8909-9169d397375e",
   "metadata": {},
   "outputs": [
    {
     "data": {
      "text/html": [
       "<div>\n",
       "<style scoped>\n",
       "    .dataframe tbody tr th:only-of-type {\n",
       "        vertical-align: middle;\n",
       "    }\n",
       "\n",
       "    .dataframe tbody tr th {\n",
       "        vertical-align: top;\n",
       "    }\n",
       "\n",
       "    .dataframe thead th {\n",
       "        text-align: right;\n",
       "    }\n",
       "</style>\n",
       "<table border=\"1\" class=\"dataframe\">\n",
       "  <thead>\n",
       "    <tr style=\"text-align: right;\">\n",
       "      <th></th>\n",
       "      <th>Comp. return 2023, %</th>\n",
       "      <th>Arit. return 2023, %</th>\n",
       "      <th>Ann. volatility, %</th>\n",
       "      <th>Comp. return 2022, %</th>\n",
       "    </tr>\n",
       "  </thead>\n",
       "  <tbody>\n",
       "    <tr>\n",
       "      <th>U.S. Aggregate Bonds hedged</th>\n",
       "      <td>3.5</td>\n",
       "      <td>3.58</td>\n",
       "      <td>4.12</td>\n",
       "      <td>1.40</td>\n",
       "    </tr>\n",
       "    <tr>\n",
       "      <th>Euro Aggregate Bonds</th>\n",
       "      <td>3.0</td>\n",
       "      <td>3.10</td>\n",
       "      <td>4.48</td>\n",
       "      <td>1.20</td>\n",
       "    </tr>\n",
       "    <tr>\n",
       "      <th>U.S. Inv Grade Corporate Bonds hedged</th>\n",
       "      <td>4.3</td>\n",
       "      <td>4.55</td>\n",
       "      <td>7.19</td>\n",
       "      <td>1.50</td>\n",
       "    </tr>\n",
       "    <tr>\n",
       "      <th>Euro Inv Grade Corp Bonds</th>\n",
       "      <td>3.6</td>\n",
       "      <td>3.73</td>\n",
       "      <td>5.10</td>\n",
       "      <td>1.50</td>\n",
       "    </tr>\n",
       "    <tr>\n",
       "      <th>U.S. High Yield Bonds hedged</th>\n",
       "      <td>5.7</td>\n",
       "      <td>6.05</td>\n",
       "      <td>8.65</td>\n",
       "      <td>2.70</td>\n",
       "    </tr>\n",
       "  </tbody>\n",
       "</table>\n",
       "</div>"
      ],
      "text/plain": [
       "                                       Comp. return 2023, %  \\\n",
       "U.S. Aggregate Bonds hedged                             3.5   \n",
       "Euro Aggregate Bonds                                    3.0   \n",
       "U.S. Inv Grade Corporate Bonds hedged                   4.3   \n",
       "Euro Inv Grade Corp Bonds                               3.6   \n",
       "U.S. High Yield Bonds hedged                            5.7   \n",
       "\n",
       "                                       Arit. return 2023, %  \\\n",
       "U.S. Aggregate Bonds hedged                            3.58   \n",
       "Euro Aggregate Bonds                                   3.10   \n",
       "U.S. Inv Grade Corporate Bonds hedged                  4.55   \n",
       "Euro Inv Grade Corp Bonds                              3.73   \n",
       "U.S. High Yield Bonds hedged                           6.05   \n",
       "\n",
       "                                       Ann. volatility, % Comp. return 2022, %  \n",
       "U.S. Aggregate Bonds hedged                          4.12                 1.40  \n",
       "Euro Aggregate Bonds                                 4.48                 1.20  \n",
       "U.S. Inv Grade Corporate Bonds hedged                7.19                 1.50  \n",
       "Euro Inv Grade Corp Bonds                            5.10                 1.50  \n",
       "U.S. High Yield Bonds hedged                         8.65                 2.70  "
      ]
     },
     "execution_count": 306,
     "metadata": {},
     "output_type": "execute_result"
    }
   ],
   "source": [
    "rire.columns =['Comp. return 2023, %', 'Arit. return 2023, %', 'Ann. volatility, %', 'Comp. return 2022, %']\n",
    "rire.index.name = None\n",
    "rire.head()"
   ]
  },
  {
   "cell_type": "code",
   "execution_count": 307,
   "id": "f58220c8-b5cb-4aea-8157-eea3a37c354e",
   "metadata": {},
   "outputs": [],
   "source": [
    "S_corr = pd.DataFrame(corr)\n",
    "mu = rire.loc[:,\"Arit. return 2023, %\"]/100"
   ]
  },
  {
   "cell_type": "code",
   "execution_count": 308,
   "id": "6154bf55-0890-4bcc-adf3-569615affc64",
   "metadata": {},
   "outputs": [
    {
     "data": {
      "text/plain": [
       "U.S. Aggregate Bonds hedged              0.0358\n",
       "Euro Aggregate Bonds                     0.0310\n",
       "U.S. Inv Grade Corporate Bonds hedged    0.0455\n",
       "Euro Inv Grade Corp Bonds                0.0373\n",
       "U.S. High Yield Bonds hedged             0.0605\n",
       "Name: Arit. return 2023, %, dtype: float64"
      ]
     },
     "execution_count": 308,
     "metadata": {},
     "output_type": "execute_result"
    }
   ],
   "source": [
    "mu.head()"
   ]
  },
  {
   "cell_type": "code",
   "execution_count": 309,
   "id": "88eab18b-ef6f-4769-9459-25ab54099d88",
   "metadata": {},
   "outputs": [],
   "source": [
    "stdevs = rire.loc[:,\"Ann. volatility, %\"]/100"
   ]
  },
  {
   "cell_type": "code",
   "execution_count": 310,
   "id": "44558f88-510b-424c-8b97-e318c6af74a6",
   "metadata": {},
   "outputs": [],
   "source": [
    "from pypfopt import risk_models\n",
    "S = risk_models.corr_to_cov(S_corr,stdevs)"
   ]
  },
  {
   "cell_type": "code",
   "execution_count": 311,
   "id": "63cc14bb-32f1-4629-8a98-3ab7554199fd",
   "metadata": {},
   "outputs": [],
   "source": [
    "ef = EfficientFrontier(mu, S)"
   ]
  },
  {
   "cell_type": "code",
   "execution_count": 377,
   "id": "f5206f61-1478-4d1a-ba84-3505f48aabc9",
   "metadata": {},
   "outputs": [
    {
     "name": "stdout",
     "output_type": "stream",
     "text": [
      "Expected annual return: 3.4%\n",
      "Annual volatility: 2.4%\n",
      "Sharpe Ratio: 0.58\n"
     ]
    },
    {
     "data": {
      "image/png": "[encoded data removed]",
      "text/plain": [
       "<Figure size 640x480 with 1 Axes>"
      ]
     },
     "metadata": {},
     "output_type": "display_data"
    }
   ],
   "source": [
    "from pypfopt import CLA, plotting\n",
    "fig, ax = plt.subplots()\n",
    "\n",
    "cla = CLA(mu, S)\n",
    "# cla.max_sharpe()\n",
    "cla.min_volatility()\n",
    "plt.title('Min Volatility')\n",
    "# plt.title('Max Sharpe')\n",
    "\n",
    "cla.portfolio_performance(verbose=True);\n",
    "ax = plotting.plot_efficient_frontier(cla, showfig=False)\n",
    "# plt.savefig(\"./data/plots/EF_all_max_sharpe.pdf\")\n",
    "plt.show()"
   ]
  },
  {
   "cell_type": "code",
   "execution_count": 378,
   "id": "4e2ebddb-1b47-4fa2-9401-76090d7b12df",
   "metadata": {},
   "outputs": [],
   "source": [
    "# full_weights = pd.DataFrame(cla.weights,)\n",
    "# full_weights.index = corr_ltr.index.values\n",
    "full_weights = cla.weights"
   ]
  },
  {
   "cell_type": "code",
   "execution_count": 382,
   "id": "b9e41953-cfd1-4a57-ab6b-22cde5d555df",
   "metadata": {},
   "outputs": [
    {
     "data": {
      "text/plain": [
       "array([0.0766341 , 0.17940122, 0.47478383, 0.01704628, 0.09223957,\n",
       "       0.03966308, 0.09383174, 0.02640018])"
      ]
     },
     "execution_count": 382,
     "metadata": {},
     "output_type": "execute_result"
    }
   ],
   "source": [
    "idx_nonz=np.where(full_weights>=0.01)\n",
    "full_weights[idx_nonz]"
   ]
  },
  {
   "cell_type": "code",
   "execution_count": 386,
   "id": "4db5125d-d2a6-40ca-bd7c-f61dbb45840e",
   "metadata": {},
   "outputs": [
    {
     "data": {
      "text/plain": [
       "array(['U.S. Leveraged Loans hedged', 'World Government Bonds hedged',\n",
       "       'World ex-Euro Government Bonds hedged', 'Japanese Equity hedged',\n",
       "       'European Core Real Estate', 'Global Core Transport',\n",
       "       'Macro Hedge Funds hedged', 'Commodities'], dtype=object)"
      ]
     },
     "execution_count": 386,
     "metadata": {},
     "output_type": "execute_result"
    }
   ],
   "source": [
    "(corr_ltr.index.values)[idx_nonz]"
   ]
  },
  {
   "cell_type": "code",
   "execution_count": 390,
   "id": "3395803d-b391-441d-9952-45e7a5dce5b2",
   "metadata": {},
   "outputs": [
    {
     "name": "stdout",
     "output_type": "stream",
     "text": [
      "['U.S. Leveraged Loans hedged' 'World Government Bonds hedged'\n",
      " 'World ex-Euro Government Bonds hedged' 'Japanese Equity hedged'\n",
      " 'European Core Real Estate' 'Global Core Transport'\n",
      " 'Macro Hedge Funds hedged' 'Commodities']\n"
     ]
    }
   ],
   "source": [
    "for i in range(len(idx_nonz)):\n",
    "    print((corr_ltr.index.values)[idx_nonz[i]])"
   ]
  },
  {
   "cell_type": "code",
   "execution_count": 423,
   "id": "93ee7eee-edf8-4d00-b105-29ea4ae410de",
   "metadata": {},
   "outputs": [
    {
     "data": {
      "text/plain": [
       "'viens 2-v'"
      ]
     },
     "execution_count": 423,
     "metadata": {},
     "output_type": "execute_result"
    }
   ],
   "source": [
    "a=2\n",
    "b=\"v\"\n",
    "f\"viens {a}-{b}\""
   ]
  },
  {
   "cell_type": "code",
   "execution_count": 431,
   "id": "712a2fbc-d8b5-460f-93b4-e55cc56fbf33",
   "metadata": {},
   "outputs": [
    {
     "data": {
      "image/png": "[encoded data removed]",
      "text/plain": [
       "<Figure size 640x480 with 1 Axes>"
      ]
     },
     "metadata": {},
     "output_type": "display_data"
    }
   ],
   "source": [
    "from pypfopt import CLA, plotting\n",
    "fig, ax = plt.subplots()\n",
    "volat_list = np.array(rire.loc[:,\"Ann. volatility, %\"])\n",
    "\n",
    "plt.title('Volatility-Weights')\n",
    "plt.xlabel('Volatility, %')\n",
    "plt.ylabel('Weights')\n",
    "plt.grid(color='k', linestyle='-', linewidth=0.1)\n",
    "plt.scatter(volat_list[idx_nonz],full_weights[idx_nonz])\n",
    "for i in range(len(idx_nonz[0])):\n",
    "    idx = idx_nonz[0][i]\n",
    "    crd=0.45-0.02*i\n",
    "    label = (corr_ltr.index.values)[idx]\n",
    "    plt.annotate(idx, # this is the text\n",
    "                 (volat_list[idx],full_weights[idx]), # these are the coordinates to position the label\n",
    "                 textcoords=\"offset points\", # how to position the text\n",
    "                 xytext=(10,0.05), # distance from text to points (x,y)\n",
    "                 ha='center')\n",
    "    plt.text(8, 0.45-0.03*i,f\"{idx}-{label}\", ha='left')\n",
    "   \n",
    "# cla.portfolio_performance(verbose=True);\n",
    "# ax = plotting.plot_efficient_frontier(cla, showfig=False)\n",
    "plt.savefig(\"./data/plots/volatility_weights.pdf\")\n",
    "plt.show()"
   ]
  },
  {
   "cell_type": "code",
   "execution_count": 436,
   "id": "83ad9edc-2c0e-4ba3-8626-088a66284e46",
   "metadata": {},
   "outputs": [],
   "source": [
    "idx_nonz=np.where(full_weights>=0.01)[0]"
   ]
  },
  {
   "cell_type": "code",
   "execution_count": 460,
   "id": "777f6be6-f574-41a1-9385-8c041080cbb7",
   "metadata": {},
   "outputs": [],
   "source": [
    "mu_little=mu[idx_nonz]"
   ]
  },
  {
   "cell_type": "code",
   "execution_count": 461,
   "id": "a8090785-c2ee-41cd-8d16-80d66bfb19eb",
   "metadata": {},
   "outputs": [],
   "source": [
    "S_little = S.iloc[idx_nonz,idx_nonz]"
   ]
  },
  {
   "cell_type": "code",
   "execution_count": 462,
   "id": "19ed404a-9c58-41fd-ab00-2985aeeb1fa0",
   "metadata": {},
   "outputs": [
    {
     "name": "stdout",
     "output_type": "stream",
     "text": [
      "Expected annual return: 3.4%\n",
      "Annual volatility: 2.4%\n",
      "Sharpe Ratio: 0.58\n"
     ]
    },
    {
     "data": {
      "image/png": "[encoded data removed]",
      "text/plain": [
       "<Figure size 640x480 with 1 Axes>"
      ]
     },
     "metadata": {},
     "output_type": "display_data"
    }
   ],
   "source": [
    "from pypfopt import CLA, plotting\n",
    "fig, ax = plt.subplots()\n",
    "\n",
    "clx = CLA(mu_little, S_little)\n",
    "clx.min_volatility()\n",
    "plt.title('Min Volatility / Small set')\n",
    "\n",
    "clx.portfolio_performance(verbose=True);\n",
    "ax = plotting.plot_efficient_frontier(clx, showfig=False)\n",
    "# plt.savefig(\"./data/plots/EF_all_max_sharpe.pdf\")\n",
    "plt.show()"
   ]
  },
  {
   "cell_type": "code",
   "execution_count": 467,
   "id": "af8edef7-4fcf-4e0d-bdd5-79570b61fe23",
   "metadata": {},
   "outputs": [],
   "source": [
    "# Get all possible combinations\n",
    "import itertools\n",
    "combinations = list(itertools.combinations(idx_nonz, 4))"
   ]
  },
  {
   "cell_type": "code",
   "execution_count": 473,
   "id": "5d7801c7-7200-4f0c-be87-671d90e5ccf5",
   "metadata": {},
   "outputs": [
    {
     "data": {
      "text/plain": [
       "array([ 6,  9, 11, 49])"
      ]
     },
     "execution_count": 473,
     "metadata": {},
     "output_type": "execute_result"
    }
   ],
   "source": []
  },
  {
   "cell_type": "code",
   "execution_count": 491,
   "id": "9ee6b50f-b484-46df-92c2-72dc4b3fbaa2",
   "metadata": {},
   "outputs": [
    {
     "name": "stdout",
     "output_type": "stream",
     "text": [
      "[ 6  9 11 26]\n",
      "Expected annual return: 3.4%\n",
      "Annual volatility: 2.9%\n",
      "Sharpe Ratio: 0.49\n",
      "[ 6  9 11 38]\n",
      "Expected annual return: 3.3%\n",
      "Annual volatility: 2.6%\n",
      "Sharpe Ratio: 0.49\n",
      "[ 6  9 11 43]\n",
      "Expected annual return: 3.4%\n",
      "Annual volatility: 2.9%\n",
      "Sharpe Ratio: 0.49\n",
      "[ 6  9 11 49]\n",
      "Expected annual return: 3.2%\n",
      "Annual volatility: 2.7%\n",
      "Sharpe Ratio: 0.44\n",
      "[ 6  9 11 51]\n",
      "Expected annual return: 3.0%\n",
      "Annual volatility: 2.7%\n",
      "Sharpe Ratio: 0.37\n",
      "[ 6  9 26 38]\n",
      "Expected annual return: 3.3%\n",
      "Annual volatility: 2.7%\n",
      "Sharpe Ratio: 0.50\n",
      "[ 6  9 26 43]\n",
      "Expected annual return: 3.6%\n",
      "Annual volatility: 2.9%\n",
      "Sharpe Ratio: 0.55\n",
      "[ 6  9 26 49]\n",
      "Expected annual return: 3.3%\n",
      "Annual volatility: 2.8%\n",
      "Sharpe Ratio: 0.47\n",
      "[ 6  9 26 51]\n",
      "Expected annual return: 3.1%\n",
      "Annual volatility: 2.7%\n",
      "Sharpe Ratio: 0.41\n",
      "[ 6  9 38 43]\n",
      "Expected annual return: 3.4%\n",
      "Annual volatility: 2.7%\n",
      "Sharpe Ratio: 0.53\n",
      "[ 6  9 38 49]\n",
      "Expected annual return: 3.3%\n",
      "Annual volatility: 2.5%\n",
      "Sharpe Ratio: 0.50\n",
      "[ 6  9 38 51]\n",
      "Expected annual return: 3.1%\n",
      "Annual volatility: 2.6%\n",
      "Sharpe Ratio: 0.43\n",
      "[ 6  9 43 49]\n",
      "Expected annual return: 3.5%\n",
      "Annual volatility: 2.7%\n",
      "Sharpe Ratio: 0.54\n",
      "[ 6  9 43 51]\n",
      "Expected annual return: 3.2%\n",
      "Annual volatility: 2.7%\n",
      "Sharpe Ratio: 0.43\n",
      "[ 6  9 49 51]\n",
      "Expected annual return: 3.0%\n",
      "Annual volatility: 2.7%\n",
      "Sharpe Ratio: 0.37\n",
      "[ 6 11 26 38]\n",
      "Expected annual return: 3.4%\n",
      "Annual volatility: 2.6%\n",
      "Sharpe Ratio: 0.52\n",
      "[ 6 11 26 43]\n",
      "Expected annual return: 3.6%\n",
      "Annual volatility: 2.8%\n",
      "Sharpe Ratio: 0.57\n",
      "[ 6 11 26 49]\n",
      "Expected annual return: 3.3%\n",
      "Annual volatility: 2.7%\n",
      "Sharpe Ratio: 0.50\n",
      "[ 6 11 26 51]\n",
      "Expected annual return: 3.2%\n",
      "Annual volatility: 2.6%\n",
      "Sharpe Ratio: 0.45\n",
      "[ 6 11 38 43]\n",
      "Expected annual return: 3.4%\n",
      "Annual volatility: 2.6%\n",
      "Sharpe Ratio: 0.53\n",
      "[ 6 11 38 49]\n",
      "Expected annual return: 3.3%\n",
      "Annual volatility: 2.5%\n",
      "Sharpe Ratio: 0.51\n",
      "[ 6 11 38 51]\n",
      "Expected annual return: 3.1%\n",
      "Annual volatility: 2.5%\n",
      "Sharpe Ratio: 0.44\n",
      "[ 6 11 43 49]\n",
      "Expected annual return: 3.4%\n",
      "Annual volatility: 2.6%\n",
      "Sharpe Ratio: 0.55\n",
      "[ 6 11 43 51]\n",
      "Expected annual return: 3.1%\n",
      "Annual volatility: 2.6%\n",
      "Sharpe Ratio: 0.44\n",
      "[ 6 11 49 51]\n",
      "Expected annual return: 3.0%\n",
      "Annual volatility: 2.6%\n",
      "Sharpe Ratio: 0.40\n",
      "[ 6 26 38 43]\n",
      "Expected annual return: 5.6%\n",
      "Annual volatility: 6.3%\n",
      "Sharpe Ratio: 0.57\n",
      "[ 6 26 38 49]\n",
      "Expected annual return: 4.4%\n",
      "Annual volatility: 5.7%\n",
      "Sharpe Ratio: 0.42\n",
      "[ 6 26 38 51]\n",
      "Expected annual return: 5.3%\n",
      "Annual volatility: 7.5%\n",
      "Sharpe Ratio: 0.45\n",
      "[ 6 26 43 49]\n",
      "Expected annual return: 4.7%\n",
      "Annual volatility: 4.8%\n",
      "Sharpe Ratio: 0.57\n",
      "[ 6 26 43 51]\n",
      "Expected annual return: 5.5%\n",
      "Annual volatility: 6.4%\n",
      "Sharpe Ratio: 0.55\n",
      "[ 6 26 49 51]\n",
      "Expected annual return: 4.3%\n",
      "Annual volatility: 6.0%\n",
      "Sharpe Ratio: 0.39\n",
      "[ 6 38 43 49]\n",
      "Expected annual return: 4.7%\n",
      "Annual volatility: 4.7%\n",
      "Sharpe Ratio: 0.57\n",
      "[ 6 38 43 51]\n",
      "Expected annual return: 5.6%\n",
      "Annual volatility: 6.2%\n",
      "Sharpe Ratio: 0.57\n",
      "[ 6 38 49 51]\n",
      "Expected annual return: 4.4%\n",
      "Annual volatility: 5.7%\n",
      "Sharpe Ratio: 0.42\n",
      "[ 6 43 49 51]\n",
      "Expected annual return: 4.7%\n",
      "Annual volatility: 4.8%\n",
      "Sharpe Ratio: 0.57\n",
      "[ 9 11 26 38]\n",
      "Expected annual return: 3.3%\n",
      "Annual volatility: 2.7%\n",
      "Sharpe Ratio: 0.48\n",
      "[ 9 11 26 43]\n",
      "Expected annual return: 3.5%\n",
      "Annual volatility: 3.1%\n",
      "Sharpe Ratio: 0.48\n",
      "[ 9 11 26 49]\n",
      "Expected annual return: 3.2%\n",
      "Annual volatility: 2.9%\n",
      "Sharpe Ratio: 0.43\n",
      "[ 9 11 26 51]\n",
      "Expected annual return: 3.1%\n",
      "Annual volatility: 2.7%\n",
      "Sharpe Ratio: 0.39\n",
      "[ 9 11 38 43]\n",
      "Expected annual return: 3.2%\n",
      "Annual volatility: 2.7%\n",
      "Sharpe Ratio: 0.44\n",
      "[ 9 11 38 49]\n",
      "Expected annual return: 3.1%\n",
      "Annual volatility: 2.5%\n",
      "Sharpe Ratio: 0.45\n",
      "[ 9 11 38 51]\n",
      "Expected annual return: 3.0%\n",
      "Annual volatility: 2.6%\n",
      "Sharpe Ratio: 0.37\n",
      "[ 9 11 43 49]\n",
      "Expected annual return: 3.0%\n",
      "Annual volatility: 3.1%\n",
      "Sharpe Ratio: 0.32\n",
      "[ 9 11 43 51]\n",
      "Expected annual return: 2.7%\n",
      "Annual volatility: 2.9%\n",
      "Sharpe Ratio: 0.25\n",
      "[ 9 11 49 51]\n",
      "Expected annual return: 2.6%\n",
      "Annual volatility: 2.9%\n",
      "Sharpe Ratio: 0.22\n",
      "[ 9 26 38 43]\n",
      "Expected annual return: 3.4%\n",
      "Annual volatility: 2.7%\n",
      "Sharpe Ratio: 0.52\n",
      "[ 9 26 38 49]\n",
      "Expected annual return: 3.2%\n",
      "Annual volatility: 2.6%\n",
      "Sharpe Ratio: 0.48\n",
      "[ 9 26 38 51]\n",
      "Expected annual return: 3.1%\n",
      "Annual volatility: 2.6%\n",
      "Sharpe Ratio: 0.44\n",
      "[ 9 26 43 49]\n",
      "Expected annual return: 3.5%\n",
      "Annual volatility: 2.9%\n",
      "Sharpe Ratio: 0.52\n",
      "[ 9 26 43 51]\n",
      "Expected annual return: 3.2%\n",
      "Annual volatility: 2.7%\n",
      "Sharpe Ratio: 0.45\n",
      "[ 9 26 49 51]\n",
      "Expected annual return: 3.1%\n",
      "Annual volatility: 2.7%\n",
      "Sharpe Ratio: 0.38\n",
      "[ 9 38 43 49]\n",
      "Expected annual return: 3.3%\n",
      "Annual volatility: 2.5%\n",
      "Sharpe Ratio: 0.52\n",
      "[ 9 38 43 51]\n",
      "Expected annual return: 3.1%\n",
      "Annual volatility: 2.6%\n",
      "Sharpe Ratio: 0.42\n",
      "[ 9 38 49 51]\n",
      "Expected annual return: 3.1%\n",
      "Annual volatility: 2.5%\n",
      "Sharpe Ratio: 0.43\n",
      "[ 9 43 49 51]\n",
      "Expected annual return: 2.9%\n",
      "Annual volatility: 2.8%\n",
      "Sharpe Ratio: 0.31\n",
      "[11 26 38 43]\n",
      "Expected annual return: 3.4%\n",
      "Annual volatility: 2.7%\n",
      "Sharpe Ratio: 0.52\n",
      "[11 26 38 49]\n",
      "Expected annual return: 3.2%\n",
      "Annual volatility: 2.5%\n",
      "Sharpe Ratio: 0.49\n",
      "[11 26 38 51]\n",
      "Expected annual return: 3.1%\n",
      "Annual volatility: 2.6%\n",
      "Sharpe Ratio: 0.44\n",
      "[11 26 43 49]\n",
      "Expected annual return: 3.5%\n",
      "Annual volatility: 2.8%\n",
      "Sharpe Ratio: 0.52\n",
      "[11 26 43 51]\n",
      "Expected annual return: 3.2%\n",
      "Annual volatility: 2.6%\n",
      "Sharpe Ratio: 0.45\n",
      "[11 26 49 51]\n",
      "Expected annual return: 3.1%\n",
      "Annual volatility: 2.7%\n",
      "Sharpe Ratio: 0.40\n",
      "[11 38 43 49]\n",
      "Expected annual return: 3.2%\n",
      "Annual volatility: 2.5%\n",
      "Sharpe Ratio: 0.48\n",
      "[11 38 43 51]\n",
      "Expected annual return: 3.0%\n",
      "Annual volatility: 2.6%\n",
      "Sharpe Ratio: 0.37\n",
      "[11 38 49 51]\n",
      "Expected annual return: 3.0%\n",
      "Annual volatility: 2.5%\n",
      "Sharpe Ratio: 0.40\n",
      "[11 43 49 51]\n",
      "Expected annual return: 2.8%\n",
      "Annual volatility: 2.8%\n",
      "Sharpe Ratio: 0.27\n",
      "[26 38 43 49]\n",
      "Expected annual return: 4.5%\n",
      "Annual volatility: 5.3%\n",
      "Sharpe Ratio: 0.48\n",
      "[26 38 43 51]\n",
      "Expected annual return: 5.8%\n",
      "Annual volatility: 8.0%\n",
      "Sharpe Ratio: 0.48\n",
      "[26 38 49 51]\n",
      "Expected annual return: 4.0%\n",
      "Annual volatility: 6.4%\n",
      "Sharpe Ratio: 0.31\n",
      "[26 43 49 51]\n",
      "Expected annual return: 4.8%\n",
      "Annual volatility: 5.8%\n",
      "Sharpe Ratio: 0.48\n",
      "[38 43 49 51]\n",
      "Expected annual return: 4.4%\n",
      "Annual volatility: 5.3%\n",
      "Sharpe Ratio: 0.45\n"
     ]
    }
   ],
   "source": [
    "for icmb in combinations[:]:\n",
    "    cmb = np.array(icmb)\n",
    "    print(cmb)\n",
    "    mu_cmb=mu[cmb]\n",
    "    # print(mu_cmb)\n",
    "    S_cmb = S.iloc[cmb,cmb]\n",
    "    # print(S_cmb)\n",
    "    # clx.clean_weights()\n",
    "    clx = CLA(mu_cmb, S_cmb)\n",
    "    clx.min_volatility()\n",
    "    clx.portfolio_performance(verbose=True)"
   ]
  },
  {
   "cell_type": "code",
   "execution_count": 490,
   "id": "dddf3270-fea8-4ef8-b77e-fd78a4b98656",
   "metadata": {},
   "outputs": [
    {
     "data": {
      "text/plain": [
       "70"
      ]
     },
     "execution_count": 490,
     "metadata": {},
     "output_type": "execute_result"
    }
   ],
   "source": [
    "len(combinations)"
   ]
  },
  {
   "cell_type": "code",
   "execution_count": null,
   "id": "37bb4371-05c5-4663-95ea-745a24ed1fa9",
   "metadata": {},
   "outputs": [],
   "source": [
    "# 2.5 - [ 6  9 38 49] w 3.3; [ 6 11 38 51] w 3.3; "
   ]
  },
  {
   "cell_type": "code",
   "execution_count": 497,
   "id": "36d5428b-f861-4753-a19b-6d786a106ecc",
   "metadata": {},
   "outputs": [
    {
     "name": "stdout",
     "output_type": "stream",
     "text": [
      "Expected annual return: 3.3%\n",
      "Annual volatility: 2.5%\n",
      "Sharpe Ratio: 0.50\n"
     ]
    },
    {
     "data": {
      "text/plain": [
       "array([0.06404344, 0.68055784, 0.14412741, 0.11127131])"
      ]
     },
     "execution_count": 497,
     "metadata": {},
     "output_type": "execute_result"
    }
   ],
   "source": [
    "cmb = np.array([6, 9, 38, 49])\n",
    "mu_f=mu[cmb]\n",
    "S_f = S.iloc[cmb,cmb]\n",
    "\n",
    "clx = CLA(mu_f, S_f)\n",
    "clx.min_volatility()\n",
    "clx.portfolio_performance(verbose=True)\n"
   ]
  },
  {
   "cell_type": "code",
   "execution_count": 496,
   "id": "6b3f1aa4-ada4-4e76-b56b-3c1a722e48d9",
   "metadata": {},
   "outputs": [
    {
     "data": {
      "text/plain": [
       "U.S. Leveraged Loans hedged      0.0540\n",
       "World Government Bonds hedged    0.0267\n",
       "European Core Real Estate        0.0519\n",
       "Macro Hedge Funds hedged         0.0322\n",
       "Name: Arit. return 2023, %, dtype: float64"
      ]
     },
     "execution_count": 496,
     "metadata": {},
     "output_type": "execute_result"
    }
   ],
   "source": [
    "# List of 4 assets\n",
    "mu_f"
   ]
  },
  {
   "cell_type": "code",
   "execution_count": 542,
   "id": "116c26c8-f3e3-484e-bcc7-b7bcccf26461",
   "metadata": {},
   "outputs": [
    {
     "data": {
      "text/plain": [
       "array([ 6.40434406, 68.05578405, 14.41274099, 11.1271309 ])"
      ]
     },
     "execution_count": 542,
     "metadata": {},
     "output_type": "execute_result"
    }
   ],
   "source": [
    "f_weights = clx.weights\n",
    "f_weights*100"
   ]
  },
  {
   "cell_type": "code",
   "execution_count": 502,
   "id": "4e39e90f-14fe-4207-9c98-3285e1fe71fa",
   "metadata": {},
   "outputs": [],
   "source": [
    "import yfinance as yf"
   ]
  },
  {
   "cell_type": "code",
   "execution_count": 604,
   "id": "4d98c349-bc1a-42a5-978b-b24635a953df",
   "metadata": {},
   "outputs": [],
   "source": [
    "tickers = [\"1677.T\",\"BKLN\",\"HDG\",\"VNQI\"]"
   ]
  },
  {
   "cell_type": "code",
   "execution_count": 633,
   "id": "ac645249-2a7d-46ce-9fd5-f0807659cdb3",
   "metadata": {},
   "outputs": [
    {
     "name": "stdout",
     "output_type": "stream",
     "text": [
      "[*********************100%%**********************]  4 of 4 completed\n"
     ]
    }
   ],
   "source": [
    "ohlc = yf.download(tickers, start=\"2022-08-31\", end=dt.date.today())['Close']"
   ]
  },
  {
   "cell_type": "code",
   "execution_count": 634,
   "id": "ff7ad176-459b-4a57-9ace-16636d2678bd",
   "metadata": {},
   "outputs": [
    {
     "data": {
      "text/html": [
       "<div>\n",
       "<style scoped>\n",
       "    .dataframe tbody tr th:only-of-type {\n",
       "        vertical-align: middle;\n",
       "    }\n",
       "\n",
       "    .dataframe tbody tr th {\n",
       "        vertical-align: top;\n",
       "    }\n",
       "\n",
       "    .dataframe thead th {\n",
       "        text-align: right;\n",
       "    }\n",
       "</style>\n",
       "<table border=\"1\" class=\"dataframe\">\n",
       "  <thead>\n",
       "    <tr style=\"text-align: right;\">\n",
       "      <th></th>\n",
       "      <th>1677.T</th>\n",
       "      <th>BKLN</th>\n",
       "      <th>HDG</th>\n",
       "      <th>VNQI</th>\n",
       "    </tr>\n",
       "    <tr>\n",
       "      <th>Date</th>\n",
       "      <th></th>\n",
       "      <th></th>\n",
       "      <th></th>\n",
       "      <th></th>\n",
       "    </tr>\n",
       "  </thead>\n",
       "  <tbody>\n",
       "    <tr>\n",
       "      <th>2022-08-31</th>\n",
       "      <td>51680.0</td>\n",
       "      <td>20.969999</td>\n",
       "      <td>46.970001</td>\n",
       "      <td>43.349998</td>\n",
       "    </tr>\n",
       "    <tr>\n",
       "      <th>2022-09-01</th>\n",
       "      <td>51730.0</td>\n",
       "      <td>20.850000</td>\n",
       "      <td>46.619999</td>\n",
       "      <td>42.759998</td>\n",
       "    </tr>\n",
       "    <tr>\n",
       "      <th>2022-09-02</th>\n",
       "      <td>51940.0</td>\n",
       "      <td>20.850000</td>\n",
       "      <td>46.520000</td>\n",
       "      <td>42.570000</td>\n",
       "    </tr>\n",
       "    <tr>\n",
       "      <th>2022-09-05</th>\n",
       "      <td>52060.0</td>\n",
       "      <td>NaN</td>\n",
       "      <td>NaN</td>\n",
       "      <td>NaN</td>\n",
       "    </tr>\n",
       "    <tr>\n",
       "      <th>2022-09-06</th>\n",
       "      <td>52100.0</td>\n",
       "      <td>20.799999</td>\n",
       "      <td>46.480000</td>\n",
       "      <td>42.320000</td>\n",
       "    </tr>\n",
       "    <tr>\n",
       "      <th>...</th>\n",
       "      <td>...</td>\n",
       "      <td>...</td>\n",
       "      <td>...</td>\n",
       "      <td>...</td>\n",
       "    </tr>\n",
       "    <tr>\n",
       "      <th>2023-08-24</th>\n",
       "      <td>52500.0</td>\n",
       "      <td>20.930000</td>\n",
       "      <td>48.169998</td>\n",
       "      <td>39.590000</td>\n",
       "    </tr>\n",
       "    <tr>\n",
       "      <th>2023-08-25</th>\n",
       "      <td>52660.0</td>\n",
       "      <td>20.969999</td>\n",
       "      <td>48.220001</td>\n",
       "      <td>39.779999</td>\n",
       "    </tr>\n",
       "    <tr>\n",
       "      <th>2023-08-28</th>\n",
       "      <td>52710.0</td>\n",
       "      <td>21.020000</td>\n",
       "      <td>48.330002</td>\n",
       "      <td>40.070000</td>\n",
       "    </tr>\n",
       "    <tr>\n",
       "      <th>2023-08-29</th>\n",
       "      <td>52790.0</td>\n",
       "      <td>21.059999</td>\n",
       "      <td>48.490002</td>\n",
       "      <td>40.700001</td>\n",
       "    </tr>\n",
       "    <tr>\n",
       "      <th>2023-08-30</th>\n",
       "      <td>52940.0</td>\n",
       "      <td>21.070000</td>\n",
       "      <td>48.419998</td>\n",
       "      <td>40.709999</td>\n",
       "    </tr>\n",
       "  </tbody>\n",
       "</table>\n",
       "<p>260 rows × 4 columns</p>\n",
       "</div>"
      ],
      "text/plain": [
       "             1677.T       BKLN        HDG       VNQI\n",
       "Date                                                \n",
       "2022-08-31  51680.0  20.969999  46.970001  43.349998\n",
       "2022-09-01  51730.0  20.850000  46.619999  42.759998\n",
       "2022-09-02  51940.0  20.850000  46.520000  42.570000\n",
       "2022-09-05  52060.0        NaN        NaN        NaN\n",
       "2022-09-06  52100.0  20.799999  46.480000  42.320000\n",
       "...             ...        ...        ...        ...\n",
       "2023-08-24  52500.0  20.930000  48.169998  39.590000\n",
       "2023-08-25  52660.0  20.969999  48.220001  39.779999\n",
       "2023-08-28  52710.0  21.020000  48.330002  40.070000\n",
       "2023-08-29  52790.0  21.059999  48.490002  40.700001\n",
       "2023-08-30  52940.0  21.070000  48.419998  40.709999\n",
       "\n",
       "[260 rows x 4 columns]"
      ]
     },
     "execution_count": 634,
     "metadata": {},
     "output_type": "execute_result"
    }
   ],
   "source": [
    "ohlc"
   ]
  },
  {
   "cell_type": "code",
   "execution_count": 635,
   "id": "df630bf8-73a3-4b8d-b2be-5f8fecd33056",
   "metadata": {},
   "outputs": [
    {
     "data": {
      "text/html": [
       "<div>\n",
       "<style scoped>\n",
       "    .dataframe tbody tr th:only-of-type {\n",
       "        vertical-align: middle;\n",
       "    }\n",
       "\n",
       "    .dataframe tbody tr th {\n",
       "        vertical-align: top;\n",
       "    }\n",
       "\n",
       "    .dataframe thead th {\n",
       "        text-align: right;\n",
       "    }\n",
       "</style>\n",
       "<table border=\"1\" class=\"dataframe\">\n",
       "  <thead>\n",
       "    <tr style=\"text-align: right;\">\n",
       "      <th></th>\n",
       "      <th>1677.T</th>\n",
       "      <th>BKLN</th>\n",
       "      <th>HDG</th>\n",
       "      <th>VNQI</th>\n",
       "    </tr>\n",
       "    <tr>\n",
       "      <th>Date</th>\n",
       "      <th></th>\n",
       "      <th></th>\n",
       "      <th></th>\n",
       "      <th></th>\n",
       "    </tr>\n",
       "  </thead>\n",
       "  <tbody>\n",
       "    <tr>\n",
       "      <th>2022-09-01</th>\n",
       "      <td>0.000967</td>\n",
       "      <td>-0.005722</td>\n",
       "      <td>-0.007452</td>\n",
       "      <td>-0.013610</td>\n",
       "    </tr>\n",
       "    <tr>\n",
       "      <th>2022-09-02</th>\n",
       "      <td>0.004060</td>\n",
       "      <td>0.000000</td>\n",
       "      <td>-0.002145</td>\n",
       "      <td>-0.004443</td>\n",
       "    </tr>\n",
       "    <tr>\n",
       "      <th>2022-09-05</th>\n",
       "      <td>0.002310</td>\n",
       "      <td>0.000000</td>\n",
       "      <td>0.000000</td>\n",
       "      <td>0.000000</td>\n",
       "    </tr>\n",
       "    <tr>\n",
       "      <th>2022-09-06</th>\n",
       "      <td>0.000768</td>\n",
       "      <td>-0.002398</td>\n",
       "      <td>-0.000860</td>\n",
       "      <td>-0.005873</td>\n",
       "    </tr>\n",
       "    <tr>\n",
       "      <th>2022-09-07</th>\n",
       "      <td>0.014203</td>\n",
       "      <td>0.003846</td>\n",
       "      <td>0.004948</td>\n",
       "      <td>0.007798</td>\n",
       "    </tr>\n",
       "  </tbody>\n",
       "</table>\n",
       "</div>"
      ],
      "text/plain": [
       "              1677.T      BKLN       HDG      VNQI\n",
       "Date                                              \n",
       "2022-09-01  0.000967 -0.005722 -0.007452 -0.013610\n",
       "2022-09-02  0.004060  0.000000 -0.002145 -0.004443\n",
       "2022-09-05  0.002310  0.000000  0.000000  0.000000\n",
       "2022-09-06  0.000768 -0.002398 -0.000860 -0.005873\n",
       "2022-09-07  0.014203  0.003846  0.004948  0.007798"
      ]
     },
     "execution_count": 635,
     "metadata": {},
     "output_type": "execute_result"
    }
   ],
   "source": [
    "returns = ohlc.pct_change().dropna()\n",
    "returns.head()"
   ]
  },
  {
   "cell_type": "code",
   "execution_count": 589,
   "id": "53a383bc-50aa-43aa-8524-2fff782dfd09",
   "metadata": {},
   "outputs": [
    {
     "data": {
      "image/png": "[encoded data removed]",
      "text/plain": [
       "<Figure size 640x480 with 1 Axes>"
      ]
     },
     "metadata": {},
     "output_type": "display_data"
    }
   ],
   "source": [
    "fig, ax = plt.subplots()\n",
    "plt.plot(np.convolve(np.array(returns[\"1677.T\"]), np.ones(10), 'valid') / 10)\n",
    "plt.plot([0,252],[0,0],c='k')\n",
    "plt.title('1677.T daily returns ar closing (rolling average (10 days)\\n 31.08.2022-31.08.2023')\n",
    "plt.xlabel('Trading day by number')\n",
    "plt.ylabel('Return')\n",
    "plt.savefig(\"./data/plots/1677T_timeseries.pdf\")\n",
    "plt.show()"
   ]
  },
  {
   "cell_type": "code",
   "execution_count": 636,
   "id": "8cd2705b-c53f-4beb-aaa0-21cbbabe2b1b",
   "metadata": {},
   "outputs": [
    {
     "data": {
      "text/html": [
       "<div>\n",
       "<style scoped>\n",
       "    .dataframe tbody tr th:only-of-type {\n",
       "        vertical-align: middle;\n",
       "    }\n",
       "\n",
       "    .dataframe tbody tr th {\n",
       "        vertical-align: top;\n",
       "    }\n",
       "\n",
       "    .dataframe thead th {\n",
       "        text-align: right;\n",
       "    }\n",
       "</style>\n",
       "<table border=\"1\" class=\"dataframe\">\n",
       "  <thead>\n",
       "    <tr style=\"text-align: right;\">\n",
       "      <th></th>\n",
       "      <th>1677.T</th>\n",
       "      <th>BKLN</th>\n",
       "      <th>HDG</th>\n",
       "      <th>VNQI</th>\n",
       "    </tr>\n",
       "  </thead>\n",
       "  <tbody>\n",
       "    <tr>\n",
       "      <th>1677.T</th>\n",
       "      <td>0.000038</td>\n",
       "      <td>0.000004</td>\n",
       "      <td>0.000002</td>\n",
       "      <td>0.000002</td>\n",
       "    </tr>\n",
       "    <tr>\n",
       "      <th>BKLN</th>\n",
       "      <td>0.000004</td>\n",
       "      <td>0.000015</td>\n",
       "      <td>0.000012</td>\n",
       "      <td>0.000024</td>\n",
       "    </tr>\n",
       "    <tr>\n",
       "      <th>HDG</th>\n",
       "      <td>0.000002</td>\n",
       "      <td>0.000012</td>\n",
       "      <td>0.000026</td>\n",
       "      <td>0.000039</td>\n",
       "    </tr>\n",
       "    <tr>\n",
       "      <th>VNQI</th>\n",
       "      <td>0.000002</td>\n",
       "      <td>0.000024</td>\n",
       "      <td>0.000039</td>\n",
       "      <td>0.000129</td>\n",
       "    </tr>\n",
       "  </tbody>\n",
       "</table>\n",
       "</div>"
      ],
      "text/plain": [
       "          1677.T      BKLN       HDG      VNQI\n",
       "1677.T  0.000038  0.000004  0.000002  0.000002\n",
       "BKLN    0.000004  0.000015  0.000012  0.000024\n",
       "HDG     0.000002  0.000012  0.000026  0.000039\n",
       "VNQI    0.000002  0.000024  0.000039  0.000129"
      ]
     },
     "execution_count": 636,
     "metadata": {},
     "output_type": "execute_result"
    }
   ],
   "source": [
    "# Generate Var-Cov matrix\n",
    "cov_matrix = returns.cov()\n",
    "cov_matrix"
   ]
  },
  {
   "cell_type": "code",
   "execution_count": 639,
   "id": "ebd3486f-2352-42d0-a5eb-61fb304f6ba1",
   "metadata": {},
   "outputs": [
    {
     "name": "stdout",
     "output_type": "stream",
     "text": [
      "1677.T    0.000112\n",
      "BKLN      0.000026\n",
      "HDG       0.000130\n",
      "VNQI     -0.000179\n",
      "dtype: float64\n",
      "0.002362659490178086\n",
      "0.4108201865450561\n"
     ]
    }
   ],
   "source": [
    "# Calculate mean returns for each stock\n",
    "avg_rets = returns.mean()\n",
    "print(avg_rets)\n",
    "\n",
    "# Calculate mean\n",
    "port_mean = avg_rets.dot(f_weights)\n",
    "print(port_mean*100)\n",
    "\n",
    "# Calculate portfolio standard deviation\n",
    "port_stdev = np.sqrt(f_weights.T.dot(cov_matrix).dot(f_weights))\n",
    "print(port_stdev*100)\n",
    "\n",
    "# Calculate mean of investment\n",
    "mean_investment = port_mean#(1+port_mean)# * initial_investment\n",
    "\n",
    "# Calculate standard deviation of investmnet\n",
    "stdev_investment = port_stdev# initial_investment * port_stdev"
   ]
  },
  {
   "cell_type": "code",
   "execution_count": 649,
   "id": "1fd97d60-5c8e-4e34-aa22-ebb210b2ed2b",
   "metadata": {},
   "outputs": [],
   "source": [
    "# Select our confidence interval (choose 99% here)\n",
    "conf_level1 = 0.01\n",
    "\n",
    "# Using SciPy ppf method to generate values for the\n",
    "# inverse cumulative distribution function to a normal distribution\n",
    "# Feed in the mean, standard deviation of our portfolio\n",
    "from scipy.stats import norm\n",
    "cutoff1 = norm.ppf(conf_level1, mean_investment, stdev_investment)"
   ]
  },
  {
   "cell_type": "code",
   "execution_count": 650,
   "id": "fb37a059-f368-435a-8e9e-fa12f0592720",
   "metadata": {},
   "outputs": [
    {
     "data": {
      "text/plain": [
       "-0.9533480080919747"
      ]
     },
     "execution_count": 650,
     "metadata": {},
     "output_type": "execute_result"
    }
   ],
   "source": [
    "cutoff1*100"
   ]
  },
  {
   "cell_type": "code",
   "execution_count": 655,
   "id": "3c083bf7-cf0b-4678-bceb-1e5b4de20902",
   "metadata": {},
   "outputs": [
    {
     "data": {
      "text/plain": [
       "-0.9533480080919747"
      ]
     },
     "execution_count": 655,
     "metadata": {},
     "output_type": "execute_result"
    }
   ],
   "source": [
    "#Finally, we can calculate the VaR at our confidence interval\n",
    "var_1d1 = cutoff1 #initial_investment\n",
    "var_1d1*100\n",
    "\n",
    "#output\n",
    "#22347.7792230231"
   ]
  },
  {
   "cell_type": "code",
   "execution_count": 701,
   "id": "a68503ac-d699-412f-bf51-e2cc431896a9",
   "metadata": {},
   "outputs": [
    {
     "name": "stdout",
     "output_type": "stream",
     "text": [
      "[*********************100%%**********************]  4 of 4 completed\n"
     ]
    }
   ],
   "source": [
    "ohlc_month = yf.download(tickers, period=\"max\")['Close']"
   ]
  },
  {
   "cell_type": "code",
   "execution_count": 708,
   "id": "72e8db97-746c-476a-a7ef-919b64cbde78",
   "metadata": {},
   "outputs": [],
   "source": [
    "returns_month = ohlc_month.pct_change(periods=2, freq = '1y')#.dropna()"
   ]
  },
  {
   "cell_type": "code",
   "execution_count": 709,
   "id": "aca7d858-7ac7-431b-9340-2786c5d0dd8c",
   "metadata": {},
   "outputs": [
    {
     "data": {
      "text/html": [
       "<div>\n",
       "<style scoped>\n",
       "    .dataframe tbody tr th:only-of-type {\n",
       "        vertical-align: middle;\n",
       "    }\n",
       "\n",
       "    .dataframe tbody tr th {\n",
       "        vertical-align: top;\n",
       "    }\n",
       "\n",
       "    .dataframe thead th {\n",
       "        text-align: right;\n",
       "    }\n",
       "</style>\n",
       "<table border=\"1\" class=\"dataframe\">\n",
       "  <thead>\n",
       "    <tr style=\"text-align: right;\">\n",
       "      <th></th>\n",
       "      <th>1677.T</th>\n",
       "      <th>BKLN</th>\n",
       "      <th>HDG</th>\n",
       "      <th>VNQI</th>\n",
       "    </tr>\n",
       "    <tr>\n",
       "      <th>Date</th>\n",
       "      <th></th>\n",
       "      <th></th>\n",
       "      <th></th>\n",
       "      <th></th>\n",
       "    </tr>\n",
       "  </thead>\n",
       "  <tbody>\n",
       "    <tr>\n",
       "      <th>2009-09-24</th>\n",
       "      <td>NaN</td>\n",
       "      <td>NaN</td>\n",
       "      <td>NaN</td>\n",
       "      <td>NaN</td>\n",
       "    </tr>\n",
       "    <tr>\n",
       "      <th>2009-09-25</th>\n",
       "      <td>NaN</td>\n",
       "      <td>NaN</td>\n",
       "      <td>NaN</td>\n",
       "      <td>NaN</td>\n",
       "    </tr>\n",
       "    <tr>\n",
       "      <th>2009-09-28</th>\n",
       "      <td>NaN</td>\n",
       "      <td>NaN</td>\n",
       "      <td>NaN</td>\n",
       "      <td>NaN</td>\n",
       "    </tr>\n",
       "    <tr>\n",
       "      <th>2009-09-29</th>\n",
       "      <td>NaN</td>\n",
       "      <td>NaN</td>\n",
       "      <td>NaN</td>\n",
       "      <td>NaN</td>\n",
       "    </tr>\n",
       "    <tr>\n",
       "      <th>2009-09-30</th>\n",
       "      <td>NaN</td>\n",
       "      <td>NaN</td>\n",
       "      <td>NaN</td>\n",
       "      <td>NaN</td>\n",
       "    </tr>\n",
       "  </tbody>\n",
       "</table>\n",
       "</div>"
      ],
      "text/plain": [
       "            1677.T  BKLN  HDG  VNQI\n",
       "Date                               \n",
       "2009-09-24     NaN   NaN  NaN   NaN\n",
       "2009-09-25     NaN   NaN  NaN   NaN\n",
       "2009-09-28     NaN   NaN  NaN   NaN\n",
       "2009-09-29     NaN   NaN  NaN   NaN\n",
       "2009-09-30     NaN   NaN  NaN   NaN"
      ]
     },
     "execution_count": 709,
     "metadata": {},
     "output_type": "execute_result"
    }
   ],
   "source": [
    "returns_month.head()"
   ]
  },
  {
   "cell_type": "code",
   "execution_count": 710,
   "id": "bb70a872-48fb-4ad1-9c13-ecb6f600c63d",
   "metadata": {},
   "outputs": [
    {
     "data": {
      "text/html": [
       "<div>\n",
       "<style scoped>\n",
       "    .dataframe tbody tr th:only-of-type {\n",
       "        vertical-align: middle;\n",
       "    }\n",
       "\n",
       "    .dataframe tbody tr th {\n",
       "        vertical-align: top;\n",
       "    }\n",
       "\n",
       "    .dataframe thead th {\n",
       "        text-align: right;\n",
       "    }\n",
       "</style>\n",
       "<table border=\"1\" class=\"dataframe\">\n",
       "  <thead>\n",
       "    <tr style=\"text-align: right;\">\n",
       "      <th></th>\n",
       "      <th>1677.T</th>\n",
       "      <th>BKLN</th>\n",
       "      <th>HDG</th>\n",
       "      <th>VNQI</th>\n",
       "    </tr>\n",
       "  </thead>\n",
       "  <tbody>\n",
       "    <tr>\n",
       "      <th>1677.T</th>\n",
       "      <td>0.029023</td>\n",
       "      <td>0.003142</td>\n",
       "      <td>0.001755</td>\n",
       "      <td>0.009743</td>\n",
       "    </tr>\n",
       "    <tr>\n",
       "      <th>BKLN</th>\n",
       "      <td>0.003142</td>\n",
       "      <td>0.002404</td>\n",
       "      <td>0.001863</td>\n",
       "      <td>0.004148</td>\n",
       "    </tr>\n",
       "    <tr>\n",
       "      <th>HDG</th>\n",
       "      <td>0.001755</td>\n",
       "      <td>0.001863</td>\n",
       "      <td>0.003302</td>\n",
       "      <td>0.000469</td>\n",
       "    </tr>\n",
       "    <tr>\n",
       "      <th>VNQI</th>\n",
       "      <td>0.009743</td>\n",
       "      <td>0.004148</td>\n",
       "      <td>0.000469</td>\n",
       "      <td>0.015571</td>\n",
       "    </tr>\n",
       "  </tbody>\n",
       "</table>\n",
       "</div>"
      ],
      "text/plain": [
       "          1677.T      BKLN       HDG      VNQI\n",
       "1677.T  0.029023  0.003142  0.001755  0.009743\n",
       "BKLN    0.003142  0.002404  0.001863  0.004148\n",
       "HDG     0.001755  0.001863  0.003302  0.000469\n",
       "VNQI    0.009743  0.004148  0.000469  0.015571"
      ]
     },
     "execution_count": 710,
     "metadata": {},
     "output_type": "execute_result"
    }
   ],
   "source": [
    "# Generate Var-Cov matrix\n",
    "cov_matrix_month = returns_month.cov()\n",
    "cov_matrix_month"
   ]
  },
  {
   "cell_type": "code",
   "execution_count": 716,
   "id": "d527d554-dd33-4e9a-ac9c-8a150eecfe5f",
   "metadata": {},
   "outputs": [
    {
     "name": "stdout",
     "output_type": "stream",
     "text": [
      "1677.T    0.072375\n",
      "BKLN     -0.026427\n",
      "HDG       0.062178\n",
      "VNQI      0.035363\n",
      "dtype: float64\n",
      "-0.045316091720823834\n",
      "5.429001024985733\n"
     ]
    }
   ],
   "source": [
    "# Calculate mean returns for each stock\n",
    "avg_rets_month = returns_month.mean()\n",
    "print(avg_rets_month)\n",
    "\n",
    "# Calculate mean\n",
    "port_mean_month = avg_rets_month.dot(f_weights)\n",
    "print(port_mean_month*100)\n",
    "\n",
    "# Calculate portfolio standard deviation\n",
    "port_stdev_month = np.sqrt(f_weights.T.dot(cov_matrix_month).dot(f_weights))\n",
    "print(port_stdev_month*100)\n",
    "\n",
    "# Calculate mean of investment\n",
    "mean_investment_month = port_mean_month#(1+port_mean)# * initial_investment\n",
    "\n",
    "# Calculate standard deviation of investmnet\n",
    "stdev_investment_month = port_stdev_month# initial_investment * port_stdev"
   ]
  },
  {
   "cell_type": "code",
   "execution_count": 717,
   "id": "b9305b99-be18-492a-bfbe-b77c87763fbc",
   "metadata": {},
   "outputs": [],
   "source": [
    "# Select our confidence interval (choose 99% here)\n",
    "conf_level1 = 0.01\n",
    "\n",
    "# Using SciPy ppf method to generate values for the\n",
    "# inverse cumulative distribution function to a normal distribution\n",
    "# Feed in the mean, standard deviation of our portfolio\n",
    "from scipy.stats import norm\n",
    "cutoff1 = norm.ppf(conf_level1, mean_investment_month, stdev_investment_month)"
   ]
  },
  {
   "cell_type": "code",
   "execution_count": 718,
   "id": "bf10ee18-870e-4e91-8514-f746315bc5f7",
   "metadata": {},
   "outputs": [
    {
     "data": {
      "text/plain": [
       "-12.675061084361927"
      ]
     },
     "execution_count": 718,
     "metadata": {},
     "output_type": "execute_result"
    }
   ],
   "source": [
    "cutoff1*100"
   ]
  },
  {
   "cell_type": "code",
   "execution_count": 748,
   "id": "13435fde-ea73-459e-b55f-a2878bec5c47",
   "metadata": {},
   "outputs": [
    {
     "data": {
      "image/png": "[encoded data removed]",
      "text/plain": [
       "<Figure size 640x480 with 1 Axes>"
      ]
     },
     "metadata": {},
     "output_type": "display_data"
    }
   ],
   "source": [
    "from scipy import stats\n",
    "# x = np.linspace(-20,20,200)\n",
    "x = np.linspace(0,0.15,200)\n",
    "plt.plot(x,stats.norm.ppf(x, mean_investment_month*100, port_stdev_month*100))\n",
    "plt.plot([0.01,0.01],[-17.5,0])\n",
    "plt.scatter([0.01],[cutoff1*100],c='r')\n",
    "plt.title('Inverse normal CDF function for the given sigma, mu')\n",
    "plt.xlabel('Cumulative part')\n",
    "plt.ylabel('VaR')\n",
    "plt.savefig(\"./data/plots/inv_ppf_estimate.pdf\")\n",
    "plt.show()"
   ]
  },
  {
   "cell_type": "code",
   "execution_count": 719,
   "id": "e816b4e4-5bab-403a-b326-dadf671c77e4",
   "metadata": {},
   "outputs": [
    {
     "name": "stdout",
     "output_type": "stream",
     "text": [
      "1 day VaR @ 99% confidence: 1.13\n",
      "2 day VaR @ 99% confidence: 1.59\n",
      "3 day VaR @ 99% confidence: 1.95\n",
      "4 day VaR @ 99% confidence: 2.25\n",
      "5 day VaR @ 99% confidence: 2.52\n",
      "6 day VaR @ 99% confidence: 2.76\n",
      "7 day VaR @ 99% confidence: 2.98\n",
      "8 day VaR @ 99% confidence: 3.19\n",
      "9 day VaR @ 99% confidence: 3.38\n",
      "10 day VaR @ 99% confidence: 3.56\n",
      "11 day VaR @ 99% confidence: 3.74\n",
      "12 day VaR @ 99% confidence: 3.9\n"
     ]
    },
    {
     "data": {
      "text/plain": [
       "[<matplotlib.lines.Line2D at 0x1dc74b430>]"
      ]
     },
     "execution_count": 719,
     "metadata": {},
     "output_type": "execute_result"
    },
    {
     "data": {
      "image/png": "[encoded data removed]",
      "text/plain": [
       "<Figure size 640x480 with 1 Axes>"
      ]
     },
     "metadata": {},
     "output_type": "display_data"
    }
   ],
   "source": [
    "# Calculate n month VaR. Just Tests below\n",
    "var_1d1 = 1-cutoff1\n",
    "var_array = []\n",
    "num_days = int(12)\n",
    "for x in range(1, num_days+1):    \n",
    "    var_array.append(np.round(var_1d1 * np.sqrt(x),2))\n",
    "    print(str(x) + \" day VaR @ 99% confidence: \" + str(np.round(var_1d1 * np.sqrt(x),2)))\n",
    "\n",
    "# Build plot\n",
    "plt.xlabel(\"Month #\")\n",
    "plt.ylabel(\"Max portfolio loss, %\")\n",
    "plt.title(\"Max portflio loss (VaR) / 1y\")\n",
    "plt.plot(var_array, \"r\")"
   ]
  },
  {
   "cell_type": "code",
   "execution_count": null,
   "id": "6549c7a5-0bbd-4965-9faf-d0c3d9308778",
   "metadata": {},
   "outputs": [],
   "source": []
  }
 ],
 "metadata": {
  "kernelspec": {
   "display_name": "inifin",
   "language": "python",
   "name": "inifin"
  },
  "language_info": {
   "codemirror_mode": {
    "name": "ipython",
    "version": 3
   },
   "file_extension": ".py",
   "mimetype": "text/x-python",
   "name": "python",
   "nbconvert_exporter": "python",
   "pygments_lexer": "ipython3",
   "version": "3.9.17"
  }
 },
 "nbformat": 4,
 "nbformat_minor": 5
}
